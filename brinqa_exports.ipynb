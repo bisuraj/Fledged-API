{
 "cells": [
  {
   "cell_type": "code",
   "execution_count": null,
   "metadata": {},
   "outputs": [],
   "source": [
    "import requests\n",
    "import json\n",
    "from io import BytesIO\n",
    "from zipfile import ZipFile\n"
   ]
  },
  {
   "cell_type": "code",
   "execution_count": null,
   "metadata": {},
   "outputs": [],
   "source": [
    "# Replace with your credentials\n",
    "username = 'uname'\n",
    "password = 'pass'\n",
    "\n",
    "# API endpoint URLs\n",
    "login_url = 'https://bakerhughes.brinqa.net/api/auth/login'\n",
    "export_configs_url = 'https://bakerhughes.brinqa.net/api/platform/admin/settings/exportconfigs/?configs=AccessControl%2CAccountLockoutPolicy%2CApplication%2CBusinessRule%2CDataMapping%2CDataModelMapping%2CDataModel%2CDataServer%2CDataSourceRule%2CDatasource%2CFlow%2CMailTemplate%2CNavigationMenu%2CNotiScript%2CNotification%2CPasswordPolicy%2CRole%2CScheduledNotification%2CScheduledRule%2CScheduledSync%2CTicketClosingRule%2CTicketRule%2CUserDefinedLibrary%2CView'\n",
    "export_token_url = 'https://bakerhughes.brinqa.net/platform/export/'\n"
   ]
  },
  {
   "cell_type": "code",
   "execution_count": null,
   "metadata": {},
   "outputs": [],
   "source": [
    "# 1. Perform login and extract access token\n",
    "login_payload = {\n",
    "    'username': username,\n",
    "    'password': password\n",
    "}\n",
    "\n",
    "login_response = requests.post(login_url, json=login_payload)\n",
    "access_token = login_response.json()['access_token']\n"
   ]
  },
  {
   "cell_type": "code",
   "execution_count": null,
   "metadata": {},
   "outputs": [],
   "source": [
    "# 2. Make the second API call using the access token\n",
    "export_headers = {\n",
    "    'Authorization': f'Bearer {access_token}',\n",
    "    'Accept': 'application/json',\n",
    "    'Content-Type': 'application/json;charset=UTF-8',\n",
    "    'X-Requested-With': 'XMLHttpRequest',\n",
    "    'Accept-Encoding': 'gzip, deflate, br',\n",
    "    'Accept-Language': 'en-US,en;q=0.9',\n",
    "}\n",
    "\n",
    "export_response = requests.get(export_configs_url, headers=export_headers)\n",
    "final_token = export_response.json()['token']\n"
   ]
  },
  {
   "cell_type": "code",
   "execution_count": null,
   "metadata": {},
   "outputs": [],
   "source": [
    "# 3. Make the third API call using the final token\n",
    "export_token_params = {\n",
    "    'token': final_token\n",
    "}\n",
    "\n",
    "export_token_response = requests.get(export_token_url, params=export_token_params)\n"
   ]
  },
  {
   "cell_type": "code",
   "execution_count": null,
   "metadata": {},
   "outputs": [],
   "source": [
    "# Save the binary response as a zip file\n",
    "zip_filename = 'exported_data.zip'\n",
    "with open(zip_filename, 'wb') as zip_file:\n",
    "    zip_file.write(export_token_response.content)\n",
    "\n",
    "print(f'Data exported successfully. Saved as {zip_filename}')\n"
   ]
  }
 ],
 "metadata": {
  "language_info": {
   "name": "python"
  }
 },
 "nbformat": 4,
 "nbformat_minor": 2
}
